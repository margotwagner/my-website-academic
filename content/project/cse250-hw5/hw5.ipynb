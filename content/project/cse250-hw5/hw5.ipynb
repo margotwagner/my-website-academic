{
 "cells": [
  {
   "cell_type": "code",
   "execution_count": 39,
   "metadata": {
    "ExecuteTime": {
     "end_time": "2020-11-09T00:04:22.173527Z",
     "start_time": "2020-11-09T00:04:22.171421Z"
    }
   },
   "outputs": [],
   "source": [
    "import numpy as np\n",
    "import matplotlib.pyplot as plt"
   ]
  },
  {
   "cell_type": "markdown",
   "metadata": {},
   "source": [
    "# 5.3 Handwritten digit classification (Gradient Ascent)"
   ]
  },
  {
   "cell_type": "markdown",
   "metadata": {},
   "source": [
    "In this problem, you will use logistic regression to classify images of handwritten digits. From the course\n",
    "web site, download the files train3.txt, test3.txt, train5.txt, and test5.txt. These files\n",
    "contain data for binary images of handwritten digits. Each image is an 8x8 bitmap represented in the files\n",
    "by one line of text. Some of the examples are shown in the following figure."
   ]
  },
  {
   "cell_type": "markdown",
   "metadata": {},
   "source": [
    "## (a) Training"
   ]
  },
  {
   "cell_type": "markdown",
   "metadata": {},
   "source": [
    "Perform a logistic regression (using gradient ascent or Newton’s method) on the images in files\n",
    "train3.txt and train5.txt. Indicate clearly the algorithm used, and provide evidence that\n",
    "it has converged (or nearly converged) by plotting or printing out the log-likelihood on several iterations\n",
    "of the algorithm, as well as the percent error rate on the images in these files. Also, print out the\n",
    "64 elements of your solution for the weight vector as an 8x8 matrix."
   ]
  },
  {
   "cell_type": "code",
   "execution_count": 40,
   "metadata": {
    "ExecuteTime": {
     "end_time": "2020-11-09T00:04:23.624966Z",
     "start_time": "2020-11-09T00:04:23.621845Z"
    }
   },
   "outputs": [],
   "source": [
    "def data(xfname0, xfname1):\n",
    "    '''\n",
    "    Create data matrix for train or test data\n",
    "    '''\n",
    "    x = np.loadtxt(xfname0)\n",
    "    x = np.concatenate((x, np.loadtxt(xfname1)))\n",
    "    y = np.array([0,1]) # 3 is 0, 5 is 1\n",
    "    y = np.repeat(y, int(len(x)/2))\n",
    "    \n",
    "    return x, y\n",
    "    "
   ]
  },
  {
   "cell_type": "code",
   "execution_count": 41,
   "metadata": {
    "ExecuteTime": {
     "end_time": "2020-11-09T00:04:24.096732Z",
     "start_time": "2020-11-09T00:04:24.094538Z"
    }
   },
   "outputs": [],
   "source": [
    "def sig(z):\n",
    "    return 1/(1 + np.exp(-z))"
   ]
  },
  {
   "cell_type": "code",
   "execution_count": 42,
   "metadata": {
    "ExecuteTime": {
     "end_time": "2020-11-09T00:04:24.604957Z",
     "start_time": "2020-11-09T00:04:24.601245Z"
    }
   },
   "outputs": [],
   "source": [
    "def log_likely(x_train, y_train, w):\n",
    "    '''\n",
    "    Log-likelihood measurement\n",
    "    '''\n",
    "    ll = 0\n",
    "    for t in range(T):\n",
    "        ll += y_train[t]*np.log(sig(np.dot(w, x_train[t]))) + (1 - y_train[t])*np.log(sig(np.dot(-w, x_train[t])))\n",
    "        \n",
    "    return ll\n",
    "    "
   ]
  },
  {
   "cell_type": "code",
   "execution_count": 43,
   "metadata": {
    "ExecuteTime": {
     "end_time": "2020-11-09T00:04:25.176697Z",
     "start_time": "2020-11-09T00:04:25.173162Z"
    }
   },
   "outputs": [],
   "source": [
    "def deriv_ll(x_train, y_train, w):\n",
    "    '''\n",
    "    Derivative of log-likelihood (used for gradient ascient)\n",
    "    \n",
    "    '''\n",
    "    dlldw = []    # partial deriv of log-likelihood wrt weights for each feature\n",
    "    for a in range(d):\n",
    "        dlldw_a = 0    # single feature partial deriv\n",
    "        for t in range(T):\n",
    "            dlldw_a += x_train[t, a]*(y_train[t] - sig(np.dot(w, x_train[t])))\n",
    "        dlldw.append(dlldw_a)\n",
    "        \n",
    "    return np.asarray(dlldw)\n",
    "    "
   ]
  },
  {
   "cell_type": "code",
   "execution_count": 63,
   "metadata": {
    "ExecuteTime": {
     "end_time": "2020-11-09T04:44:16.395437Z",
     "start_time": "2020-11-09T04:44:16.389810Z"
    }
   },
   "outputs": [],
   "source": [
    "def grad_ascent(x_train, y_train, w_init=np.zeros(d), maxiter=10000):\n",
    "    '''\n",
    "    Implements gradient ascent given an initial set of weights (wo) and maximum iterations\n",
    "    \n",
    "    Returns weights and log-likelihoods for every 100 iterations\n",
    "    '''\n",
    "    # Initialize weights\n",
    "    w = w_init\n",
    "    \n",
    "    # Initial log-likelihood\n",
    "    prev_ll = 0\n",
    "    curr_ll = log_likely(x_train, y_train, w)\n",
    "    \n",
    "    # Set max iterations\n",
    "    i = 0\n",
    "    \n",
    "    # Log likelihood\n",
    "    lls = []\n",
    "    \n",
    "    print(\"Beginning gradient ascent...\")\n",
    "    print(\"Iterations\\tLog-Likelihood\")\n",
    "\n",
    "    while (prev_ll != curr_ll) and (i < maxiter):\n",
    "        # update weights using first partial deriv\n",
    "        w = w + lr*deriv_ll(x_train, y_train, w)\n",
    "        \n",
    "        if (i%100 == 0):\n",
    "            lls.append(curr_ll)\n",
    "            \n",
    "        if (i%1000 == 0):\n",
    "            print(\"{}:\\t\\t\".format(i), curr_ll)\n",
    "        \n",
    "        # update weights using ll deriv\n",
    "        prev_ll = curr_ll\n",
    "        curr_ll = log_likely(x_train, y_train, w)\n",
    "        \n",
    "        i += 1\n",
    "        \n",
    "    print(\"Done!\")\n",
    "    \n",
    "    return w, lls"
   ]
  },
  {
   "cell_type": "code",
   "execution_count": 45,
   "metadata": {
    "ExecuteTime": {
     "end_time": "2020-11-09T00:04:27.373775Z",
     "start_time": "2020-11-09T00:04:27.370506Z"
    }
   },
   "outputs": [],
   "source": [
    "def percent_error(y, y_pred):\n",
    "    '''\n",
    "    Percent error between actual y's and predicted y\n",
    "    '''\n",
    "    return (1 - sum(y == y_pred)/len(y))*100"
   ]
  },
  {
   "cell_type": "code",
   "execution_count": null,
   "metadata": {
    "ExecuteTime": {
     "start_time": "2020-11-09T04:44:18.490Z"
    }
   },
   "outputs": [
    {
     "name": "stdout",
     "output_type": "stream",
     "text": [
      "Beginning gradient ascent...\n",
      "Iterations\tLog-Likelihood\n",
      "0:\t\t -970.4060527838883\n",
      "1000:\t\t -175.72311092694093\n",
      "2000:\t\t -162.537018816536\n",
      "3000:\t\t -157.29803908159442\n",
      "4000:\t\t -154.47199931317115\n",
      "5000:\t\t -152.71296313269082\n",
      "6000:\t\t -151.52149261645846\n",
      "7000:\t\t -150.66806226322777\n",
      "8000:\t\t -150.03214427055346\n",
      "9000:\t\t -149.54432033286358\n",
      "10000:\t\t -149.1617662297659\n",
      "11000:\t\t -148.8566091881835\n",
      "12000:\t\t -148.60990674237954\n"
     ]
    }
   ],
   "source": [
    "# Training data\n",
    "x_train, y_train = data('train3.txt', 'train5.txt')\n",
    "\n",
    "# Initialize weights and max iterations\n",
    "maxiter = 50000\n",
    "    \n",
    "# Perform gradient ascent\n",
    "w, lls = grad_ascent(x_train, y_train, maxiter=maxiter)\n"
   ]
  },
  {
   "cell_type": "code",
   "execution_count": 59,
   "metadata": {
    "ExecuteTime": {
     "end_time": "2020-11-09T04:40:40.051448Z",
     "start_time": "2020-11-09T04:40:39.942691Z"
    }
   },
   "outputs": [
    {
     "name": "stdout",
     "output_type": "stream",
     "text": [
      "Training percent error rate:\t3.79%\n",
      "Final weights:\n",
      "[[-1.25936 -1.37419 -1.93316 -0.94671 -1.63595 -0.47379  0.89571  1.87977]\n",
      " [ 0.70296  0.06911  0.79527 -0.54739 -0.10168  0.54825 -1.40402 -0.06085]\n",
      " [ 2.68725  1.13078  1.05256  0.35054  0.28219 -2.04812 -3.02995 -3.45483]\n",
      " [ 2.12097  0.7162   1.51839 -0.53512 -1.43577 -0.56021  0.36817 -0.18712]\n",
      " [ 0.23122  0.27649  0.19447 -0.8278  -0.22176 -0.13688 -0.6316  -0.20239]\n",
      " [ 1.22045 -0.94062  0.51926  0.62393  0.45486 -0.67527  0.0177  -1.70624]\n",
      " [ 0.42114 -0.22439  0.98362  0.85134  0.05055 -0.26659  0.49028 -1.49941]\n",
      " [ 0.25259  0.35063  0.04244  3.7028   0.54296  0.55298 -0.02859 -0.57876]]\n"
     ]
    },
    {
     "data": {
      "image/png": "[encoded data removed]",
      "text/plain": [
       "<Figure size 432x288 with 1 Axes>"
      ]
     },
     "metadata": {
      "needs_background": "light"
     },
     "output_type": "display_data"
    }
   ],
   "source": [
    "# Results\n",
    "# Plot the log-likelihood for several iterations\n",
    "iterations = np.arange(0, 10000, 100)\n",
    "plt.plot(iterations, lls)\n",
    "plt.xlabel('iterations')\n",
    "plt.ylabel('log-likelihood')\n",
    "\n",
    "# Percent error rate\n",
    "y_pred_train = np.rint(sig(np.dot(w, x_train.transpose())))\n",
    "per_train = percent_error(y_train, y_pred_train)\n",
    "print('Training percent error rate:\\t{}%'.format(round(per_train, 2)))\n",
    "\n",
    "print(\"Final weights:\")\n",
    "print(np.round(w, decimals=5).reshape((8,8)))"
   ]
  },
  {
   "cell_type": "markdown",
   "metadata": {},
   "source": [
    "## (b) Testing\n",
    "Use the model learned in part (a) to label the images in the files test3.txt and test5.txt.\n",
    "Report your percent error rate on these images."
   ]
  },
  {
   "cell_type": "code",
   "execution_count": 55,
   "metadata": {
    "ExecuteTime": {
     "end_time": "2020-11-09T04:36:47.577796Z",
     "start_time": "2020-11-09T04:36:47.546070Z"
    }
   },
   "outputs": [
    {
     "name": "stdout",
     "output_type": "stream",
     "text": [
      "Testing percent error rate:\t5.5%\n"
     ]
    }
   ],
   "source": [
    "# Percent error rate\n",
    "x_test, y_test = data('test3.txt', 'test5.txt')\n",
    "y_pred_test = np.rint(sig(np.dot(w, x_test.transpose())))\n",
    "per_test = percent_error(y_test, y_pred_test)\n",
    "print('Testing percent error rate:\\t{}%'.format(round(per_test, 2)))"
   ]
  },
  {
   "cell_type": "code",
   "execution_count": 17,
   "metadata": {
    "ExecuteTime": {
     "end_time": "2020-11-08T23:57:46.417016Z",
     "start_time": "2020-11-08T23:57:46.411996Z"
    }
   },
   "outputs": [],
   "source": [
    "w = np.array([-1.25936385, -1.37419156, -1.93315691, -0.94670866, -1.63594695,\n",
    "       -0.47379369,  0.89570972,  1.87976697,  0.70295908,  0.06910995,\n",
    "        0.79526537, -0.54738677, -0.10168444,  0.54824705, -1.40401752,\n",
    "       -0.06085015,  2.68724645,  1.1307781 ,  1.05255621,  0.35054039,\n",
    "        0.28218726, -2.04811778, -3.02994933, -3.45483084,  2.12096748,\n",
    "        0.71620149,  1.51838805, -0.53512089, -1.43576657, -0.56020994,\n",
    "        0.36817054, -0.18712274,  0.23122339,  0.27648621,  0.19446814,\n",
    "       -0.8277966 , -0.22176086, -0.1368842 , -0.63159855, -0.20238899,\n",
    "        1.22045228, -0.94061884,  0.51925866,  0.62392667,  0.45485562,\n",
    "       -0.67526907,  0.01770258, -1.70623856,  0.42114389, -0.22439154,\n",
    "        0.98362023,  0.85134271,  0.05054536, -0.26658909,  0.49027812,\n",
    "       -1.49941143,  0.25258644,  0.35062984,  0.04243829,  3.70280437,\n",
    "        0.54295649,  0.5529752 , -0.02858906, -0.57876249])"
   ]
  }
 ],
 "metadata": {
  "kernelspec": {
   "display_name": "Python 3",
   "language": "python",
   "name": "python3"
  },
  "language_info": {
   "codemirror_mode": {
    "name": "ipython",
    "version": 3
   },
   "file_extension": ".py",
   "mimetype": "text/x-python",
   "name": "python",
   "nbconvert_exporter": "python",
   "pygments_lexer": "ipython3",
   "version": "3.8.3"
  },
  "varInspector": {
   "cols": {
    "lenName": 16,
    "lenType": 16,
    "lenVar": 40
   },
   "kernels_config": {
    "python": {
     "delete_cmd_postfix": "",
     "delete_cmd_prefix": "del ",
     "library": "var_list.py",
     "varRefreshCmd": "print(var_dic_list())"
    },
    "r": {
     "delete_cmd_postfix": ") ",
     "delete_cmd_prefix": "rm(",
     "library": "var_list.r",
     "varRefreshCmd": "cat(var_dic_list()) "
    }
   },
   "types_to_exclude": [
    "module",
    "function",
    "builtin_function_or_method",
    "instance",
    "_Feature"
   ],
   "window_display": false
  }
 },
 "nbformat": 4,
 "nbformat_minor": 4
}
