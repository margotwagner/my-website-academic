{
 "cells": [
  {
   "cell_type": "code",
   "execution_count": 1,
   "metadata": {
    "ExecuteTime": {
     "end_time": "2020-11-23T06:05:29.585612Z",
     "start_time": "2020-11-23T06:05:29.300800Z"
    }
   },
   "outputs": [],
   "source": [
    "import numpy as np\n",
    "import matplotlib.pyplot as plt"
   ]
  },
  {
   "cell_type": "markdown",
   "metadata": {},
   "source": [
    "# Viterbi algorithm"
   ]
  },
  {
   "cell_type": "code",
   "execution_count": 2,
   "metadata": {
    "ExecuteTime": {
     "end_time": "2020-11-23T06:05:30.896168Z",
     "start_time": "2020-11-23T06:05:30.736514Z"
    }
   },
   "outputs": [],
   "source": [
    "a = np.loadtxt('transitionMatrix.txt') # n x n\n",
    "b = np.loadtxt('emissionMatrix.txt') # n x m\n",
    "init = np.loadtxt('initialStateDistribution.txt') # n x 1 (pi)\n",
    "n = len(init) # number of states\n",
    "m = b.shape[1] # number of observations\n",
    "o = np.loadtxt('observations.txt', dtype=int) # observations\n",
    "T = len(o)\n",
    "l = np.zeros((n,T))\n",
    "phi = np.zeros_like(l)"
   ]
  },
  {
   "cell_type": "code",
   "execution_count": 3,
   "metadata": {
    "ExecuteTime": {
     "end_time": "2020-11-23T06:05:35.496062Z",
     "start_time": "2020-11-23T06:05:35.491408Z"
    }
   },
   "outputs": [
    {
     "name": "stdout",
     "output_type": "stream",
     "text": [
      "a: (27, 27)\n",
      "b: (27, 2)\n",
      "init: (27,)\n",
      "n: 27\n",
      "m: 2\n",
      "o: (175000,)\n",
      "T: 175000\n",
      "l: (27, 175000)\n",
      "phi: (27, 175000)\n"
     ]
    }
   ],
   "source": [
    "print('a:', a.shape)\n",
    "print('b:', b.shape)\n",
    "print('init:', init.shape)\n",
    "print('n:', n)\n",
    "print('m:', m)\n",
    "print('o:', o.shape)\n",
    "print('T:', T)\n",
    "print('l:', l.shape)\n",
    "print('phi:', phi.shape)"
   ]
  },
  {
   "cell_type": "code",
   "execution_count": 4,
   "metadata": {
    "ExecuteTime": {
     "end_time": "2020-11-23T06:05:37.585431Z",
     "start_time": "2020-11-23T06:05:37.582236Z"
    }
   },
   "outputs": [],
   "source": [
    "def initialize_l():\n",
    "    '''\n",
    "    first step of filling in l* matrix\n",
    "    '''\n",
    "    l[:,0] = np.log(init) + np.log(b[:,o[0]])"
   ]
  },
  {
   "cell_type": "code",
   "execution_count": 5,
   "metadata": {
    "ExecuteTime": {
     "end_time": "2020-11-23T06:05:38.091710Z",
     "start_time": "2020-11-23T06:05:38.087538Z"
    }
   },
   "outputs": [],
   "source": [
    "def update_l(curr_t, next_t):\n",
    "    '''\n",
    "    fill l in from left to right given the current t timestep and the next timestep, t+1\n",
    "    also creates theta for t+1\n",
    "    '''\n",
    "    next_1 = np.max(np.add(l[:,curr_t], np.log(a)), axis=1) + np.log(b[:,o[next_t]])\n",
    "    next_phi = np.asarray([np.argmax(l[:,curr_t] + np.log(a), axis=1)])\n",
    "    \n",
    "    return next_1, next_phi\n",
    "    "
   ]
  },
  {
   "cell_type": "code",
   "execution_count": 6,
   "metadata": {
    "ExecuteTime": {
     "end_time": "2020-11-23T06:05:44.441988Z",
     "start_time": "2020-11-23T06:05:39.085964Z"
    }
   },
   "outputs": [],
   "source": [
    "# Initialize l* matrix\n",
    "initialize_l()\n",
    "\n",
    "# Fill l* matrix from left to right\n",
    "for t in range(T-1):\n",
    "    l[:,t+1], phi[:,t+1] = update_l(t, t+1)"
   ]
  },
  {
   "cell_type": "code",
   "execution_count": 7,
   "metadata": {
    "ExecuteTime": {
     "end_time": "2020-11-23T06:05:44.474733Z",
     "start_time": "2020-11-23T06:05:44.471884Z"
    }
   },
   "outputs": [],
   "source": [
    "s = np.zeros(T, dtype=int)\n",
    "def initialize_s():\n",
    "    s[-1] = np.argmax(l[:,-1])"
   ]
  },
  {
   "cell_type": "code",
   "execution_count": 8,
   "metadata": {
    "ExecuteTime": {
     "end_time": "2020-11-23T06:05:46.349987Z",
     "start_time": "2020-11-23T06:05:46.346900Z"
    }
   },
   "outputs": [],
   "source": [
    "def update_s(curr_t, next_t):\n",
    "    '''\n",
    "    computes most likely states by backtracking\n",
    "    '''\n",
    "    s_curr = phi[s[next_t], next_t]\n",
    "    \n",
    "    return s_curr"
   ]
  },
  {
   "cell_type": "code",
   "execution_count": 9,
   "metadata": {
    "ExecuteTime": {
     "end_time": "2020-11-23T06:05:48.530846Z",
     "start_time": "2020-11-23T06:05:48.430604Z"
    }
   },
   "outputs": [],
   "source": [
    "# Initialize most likely states (s*) matrix\n",
    "initialize_s()\n",
    "\n",
    "# Fill s* matrix from right to left\n",
    "for t in range(T-2, -1, -1):\n",
    "    s[t] = update_s(t, t+1)"
   ]
  },
  {
   "cell_type": "code",
   "execution_count": 10,
   "metadata": {
    "ExecuteTime": {
     "end_time": "2020-11-23T06:05:49.041619Z",
     "start_time": "2020-11-23T06:05:49.038013Z"
    }
   },
   "outputs": [],
   "source": [
    "def viterbi_letters(s):\n",
    "    m = \"\"\n",
    "    for c in s:\n",
    "        if c == 26:\n",
    "            m += \" \"\n",
    "        else:\n",
    "            m += chr(c + 97)\n",
    "    return m"
   ]
  },
  {
   "cell_type": "code",
   "execution_count": 11,
   "metadata": {
    "ExecuteTime": {
     "end_time": "2020-11-23T06:05:50.023843Z",
     "start_time": "2020-11-23T06:05:49.916303Z"
    }
   },
   "outputs": [],
   "source": [
    "letters = viterbi_letters(s)"
   ]
  },
  {
   "cell_type": "code",
   "execution_count": 12,
   "metadata": {
    "ExecuteTime": {
     "end_time": "2020-11-23T06:05:50.414797Z",
     "start_time": "2020-11-23T06:05:50.410154Z"
    }
   },
   "outputs": [
    {
     "name": "stdout",
     "output_type": "stream",
     "text": [
      "hindsight is always twenty twenty\n"
     ]
    }
   ],
   "source": [
    "from itertools import groupby\n",
    "message = ''\n",
    "let_uniq = [i[0] for i in groupby(letters)]\n",
    "for letter in let_uniq:\n",
    "    message += letter\n",
    "print(message)"
   ]
  },
  {
   "cell_type": "code",
   "execution_count": 13,
   "metadata": {
    "ExecuteTime": {
     "end_time": "2020-11-23T06:05:51.352223Z",
     "start_time": "2020-11-23T06:05:51.349741Z"
    }
   },
   "outputs": [],
   "source": [
    "label = [chr(i) for i in range(97, 97+26, 1)]\n",
    "label.append('<SPC>')"
   ]
  },
  {
   "cell_type": "code",
   "execution_count": 14,
   "metadata": {
    "ExecuteTime": {
     "end_time": "2020-11-23T06:06:09.088938Z",
     "start_time": "2020-11-23T06:06:08.904402Z"
    }
   },
   "outputs": [
    {
     "data": {
      "image/png": "[encoded data removed]",
      "text/plain": [
       "<Figure size 432x288 with 1 Axes>"
      ]
     },
     "metadata": {
      "needs_background": "light"
     },
     "output_type": "display_data"
    }
   ],
   "source": [
    "plt.plot(s)\n",
    "plt.xlabel('time')\n",
    "plt.ylabel('letter')\n",
    "plt.yticks(np.arange(0, 27, step=1), labels=label)\n",
    "plt.show()"
   ]
  },
  {
   "cell_type": "code",
   "execution_count": null,
   "metadata": {},
   "outputs": [],
   "source": []
  }
 ],
 "metadata": {
  "kernelspec": {
   "display_name": "Python 3",
   "language": "python",
   "name": "python3"
  },
  "language_info": {
   "codemirror_mode": {
    "name": "ipython",
    "version": 3
   },
   "file_extension": ".py",
   "mimetype": "text/x-python",
   "name": "python",
   "nbconvert_exporter": "python",
   "pygments_lexer": "ipython3",
   "version": "3.8.3"
  },
  "varInspector": {
   "cols": {
    "lenName": 16,
    "lenType": 16,
    "lenVar": 40
   },
   "kernels_config": {
    "python": {
     "delete_cmd_postfix": "",
     "delete_cmd_prefix": "del ",
     "library": "var_list.py",
     "varRefreshCmd": "print(var_dic_list())"
    },
    "r": {
     "delete_cmd_postfix": ") ",
     "delete_cmd_prefix": "rm(",
     "library": "var_list.r",
     "varRefreshCmd": "cat(var_dic_list()) "
    }
   },
   "types_to_exclude": [
    "module",
    "function",
    "builtin_function_or_method",
    "instance",
    "_Feature"
   ],
   "window_display": false
  }
 },
 "nbformat": 4,
 "nbformat_minor": 4
}
