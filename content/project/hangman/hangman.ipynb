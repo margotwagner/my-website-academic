{
 "cells": [
  {
   "cell_type": "code",
   "execution_count": 1,
   "metadata": {},
   "outputs": [],
   "source": [
    "import pandas as pd\n",
    "import string"
   ]
  },
  {
   "cell_type": "code",
   "execution_count": 2,
   "metadata": {},
   "outputs": [
    {
     "data": {
      "text/html": [
       "<div>\n",
       "<style scoped>\n",
       "    .dataframe tbody tr th:only-of-type {\n",
       "        vertical-align: middle;\n",
       "    }\n",
       "\n",
       "    .dataframe tbody tr th {\n",
       "        vertical-align: top;\n",
       "    }\n",
       "\n",
       "    .dataframe thead th {\n",
       "        text-align: right;\n",
       "    }\n",
       "</style>\n",
       "<table border=\"1\" class=\"dataframe\">\n",
       "  <thead>\n",
       "    <tr style=\"text-align: right;\">\n",
       "      <th></th>\n",
       "      <th>word</th>\n",
       "      <th>count</th>\n",
       "      <th>P(W=w)</th>\n",
       "    </tr>\n",
       "  </thead>\n",
       "  <tbody>\n",
       "    <tr>\n",
       "      <th>0</th>\n",
       "      <td>AARON</td>\n",
       "      <td>413</td>\n",
       "      <td>0.000054</td>\n",
       "    </tr>\n",
       "    <tr>\n",
       "      <th>1</th>\n",
       "      <td>ABABA</td>\n",
       "      <td>199</td>\n",
       "      <td>0.000026</td>\n",
       "    </tr>\n",
       "    <tr>\n",
       "      <th>2</th>\n",
       "      <td>ABACK</td>\n",
       "      <td>64</td>\n",
       "      <td>0.000008</td>\n",
       "    </tr>\n",
       "    <tr>\n",
       "      <th>3</th>\n",
       "      <td>ABATE</td>\n",
       "      <td>69</td>\n",
       "      <td>0.000009</td>\n",
       "    </tr>\n",
       "    <tr>\n",
       "      <th>4</th>\n",
       "      <td>ABBAS</td>\n",
       "      <td>290</td>\n",
       "      <td>0.000038</td>\n",
       "    </tr>\n",
       "  </tbody>\n",
       "</table>\n",
       "</div>"
      ],
      "text/plain": [
       "    word  count    P(W=w)\n",
       "0  AARON    413  0.000054\n",
       "1  ABABA    199  0.000026\n",
       "2  ABACK     64  0.000008\n",
       "3  ABATE     69  0.000009\n",
       "4  ABBAS    290  0.000038"
      ]
     },
     "execution_count": 2,
     "metadata": {},
     "output_type": "execute_result"
    }
   ],
   "source": [
    "# Read in word counts file\n",
    "word_counts = pd.read_csv('./word_counts.txt', sep=' ', \n",
    "                          header=None, names=['word', 'count'])\n",
    "\n",
    "# Compute probabilities of words\n",
    "word_counts['P(W=w)'] = word_counts['count'] / word_counts['count'].sum(axis=0)\n",
    "\n",
    "word_counts.head()"
   ]
  },
  {
   "cell_type": "code",
   "execution_count": 3,
   "metadata": {},
   "outputs": [],
   "source": [
    "def p_e_given_w(correct , incorrect):\n",
    "    '''\n",
    "    Function to give P(evidence|word) for each word. Checks if the guessed correctly/incorrectly\n",
    "    matches with each word.\n",
    "\n",
    "    Evidence refers to the information at the current stage of the game.\n",
    "    \n",
    "    Args:\n",
    "        correct:   list of correct guesses\n",
    "        incorrect: list of incorrect guesses\n",
    "    \n",
    "    Returns:\n",
    "        p_e_w: list of probabilities P(E|W) for each word\n",
    "    '''\n",
    "\n",
    "    # Initialize P(E|W) for each word\n",
    "    p_e_w = [None]*len(word_counts.index)\n",
    "    \n",
    "    # Compare words to correct/incorrect guesses to determine P(E|W)\n",
    "    for i in range(len(word_counts.index)): \n",
    "        for letter, guess in zip(word_counts['word'][i], correct):\n",
    "            # P(E|W) = 0 if the word contains a letter that is \"incorrect\"\n",
    "            if letter in incorrect:\n",
    "                p_e_w[i] = 0\n",
    "                break\n",
    "            \n",
    "            # P(E|W) = 0 if the letter is in the guessed spot but the\n",
    "            # word doesn't have the same letter in that spot.\n",
    "            elif (guess != None) and (letter != guess):\n",
    "                p_e_w[i] = 0\n",
    "                break\n",
    "                \n",
    "            # P(E|W) = 0 if a letter has been guessed and is in the word\n",
    "            # but not in the same positions as the word in question.\n",
    "            elif (letter in correct) and (guess == None):\n",
    "                p_e_w[i] = 0\n",
    "                break\n",
    "                \n",
    "            else:\n",
    "                p_e_w[i] = 1\n",
    "    \n",
    "    return p_e_w  "
   ]
  },
  {
   "cell_type": "code",
   "execution_count": 4,
   "metadata": {},
   "outputs": [],
   "source": [
    "def p_l_given_w(letter):\n",
    "    '''\n",
    "    Function that gives the probabilites of a certain letter given a word P(letter | word).\n",
    "    \n",
    "    Args:\n",
    "        letter: letter of interest from alphabet\n",
    "    \n",
    "    Returns:\n",
    "        p_l_w: probability of that letter for each word\n",
    "    '''\n",
    "    # Initialize P(L|W) for each word\n",
    "    p_l_w = [None]*len(word_counts.index)\n",
    "    \n",
    "    # Check if letter is anywhere in word\n",
    "    for i in range(len(word_counts.index)): \n",
    "        if letter in list(word_counts['word'][i]):\n",
    "            p_l_w[i] = 1\n",
    "        else:\n",
    "            p_l_w[i] = 0\n",
    "    \n",
    "    return p_l_w "
   ]
  },
  {
   "cell_type": "code",
   "execution_count": 5,
   "metadata": {},
   "outputs": [],
   "source": [
    "def best_guess(correct, incorrect):\n",
    "    '''\n",
    "    Gives the best next guess letter (l) and P(Letter=l|Evidence)\n",
    "    \n",
    "    Args:\n",
    "        correct: list of correct guesses in order\n",
    "        incorrect: list of incorrect guessses\n",
    "    '''\n",
    "    \n",
    "    # Compute P(E|W=w)\n",
    "    word_counts['P(E|W=w)'] = p_e_given_w(correct, incorrect)\n",
    "    \n",
    "    # Compute P(W=w|E)\n",
    "    word_counts['P(E|W=w)*P(W=w)'] = word_counts['P(E|W=w)'] * word_counts['P(W=w)']\n",
    "    word_counts['P(W=w|E)'] = word_counts['P(E|W=w)*P(W=w)'] / word_counts['P(E|W=w)*P(W=w)'].sum(axis=0)\n",
    "    del word_counts['P(E|W=w)*P(W=w)']\n",
    "    \n",
    "    # Compute P(L=l|W=w)\n",
    "    for letter in string.ascii_uppercase:\n",
    "        word_counts['P(L={}|W=w)'.format(letter)] = p_l_given_w(letter)\n",
    "    \n",
    "    # Compute P(L=l|W=w)*P(W=w|E) for each letter and word\n",
    "    for letter in string.ascii_uppercase:\n",
    "        word_counts['P(L={}|W=w)*P(W=w|E)'.format(letter)] = p_l_given_w(letter) * word_counts['P(W=w|E)'] \n",
    "        \n",
    "    # Compute P(L=l|E)\n",
    "    p_l_e = [None]*len(string.ascii_lowercase)\n",
    "    for letter, i in zip(string.ascii_uppercase, range(len(string.ascii_lowercase))):\n",
    "        p_l_e[i] = word_counts['P(L={}|W=w)*P(W=w|E)'.format(letter)].sum(axis=0)\n",
    "        \n",
    "    p_letter_e = pd.DataFrame(p_l_e, columns=['P(L=l|E)'], index=list(string.ascii_uppercase))\n",
    "    \n",
    "    best_guess = p_letter_e.loc[p_letter_e[p_letter_e['P(L=l|E)'] < 0.9999999].idxmax()].index.values[0]\n",
    "    max_p_l_e = p_letter_e.loc[p_letter_e[p_letter_e['P(L=l|E)'] < 0.9999999].idxmax()].values[0][0]\n",
    "    \n",
    "    print('For correct guesses', correct, 'and incorrect guesses {}:'.format(incorrect))\n",
    "    print('Your best next guess is', best_guess, 'with a probability P(L={}|E) of'.format(best_guess),round(max_p_l_e, 4),'\\n')"
   ]
  },
  {
   "cell_type": "code",
   "execution_count": 6,
   "metadata": {},
   "outputs": [
    {
     "name": "stdout",
     "output_type": "stream",
     "text": [
      "For correct guesses [None, None, None, None, None] and incorrect guesses ['E', 'O']:\n",
      "Your best next guess is I with a probability P(L=I|E) of 0.6366 \n",
      "\n",
      "For correct guesses ['D', None, None, 'I', None] and incorrect guesses []:\n",
      "Your best next guess is A with a probability P(L=A|E) of 0.8207 \n",
      "\n",
      "For correct guesses ['D', None, None, 'I', None] and incorrect guesses ['A']:\n",
      "Your best next guess is E with a probability P(L=E|E) of 0.7521 \n",
      "\n",
      "For correct guesses [None, 'U', None, None, None] and incorrect guesses ['A', 'E', 'I', 'O', 'S']:\n",
      "Your best next guess is Y with a probability P(L=Y|E) of 0.627 \n",
      "\n"
     ]
    }
   ],
   "source": [
    "# Check against given solutions\n",
    "correct = [None] * 5\n",
    "incorrect = ['E', 'O']\n",
    "best_guess(correct, incorrect)\n",
    "\n",
    "correct = ['D', None, None, 'I', None]\n",
    "incorrect = []\n",
    "best_guess(correct, incorrect)\n",
    "\n",
    "incorrect = ['A']\n",
    "best_guess(correct, incorrect)\n",
    "\n",
    "correct = [None, 'U', None, None, None]\n",
    "incorrect = ['A', 'E', 'I', 'O', 'S']\n",
    "best_guess(correct, incorrect)"
   ]
  },
  {
   "cell_type": "code",
   "execution_count": 11,
   "metadata": {},
   "outputs": [],
   "source": [
    "import tkinter as tk\n",
    "\n",
    "window = tk.Tk()\n",
    "\n",
    "greeting = tk.Label(text=\"Hello, Tkinter\")\n",
    "\n",
    "greeting.pack()"
   ]
  },
  {
   "cell_type": "code",
   "execution_count": 7,
   "metadata": {},
   "outputs": [
    {
     "name": "stdout",
     "output_type": "stream",
     "text": [
      "For correct guesses [None, None, None, None, None] and incorrect guesses ['E', 'O']:\n",
      "Your best next guess is I with a probability P(L=I|E) of 0.6366 \n",
      "\n",
      "For correct guesses ['D', None, None, 'I', None] and incorrect guesses []:\n",
      "Your best next guess is A with a probability P(L=A|E) of 0.8207 \n",
      "\n",
      "For correct guesses ['D', None, None, 'I', None] and incorrect guesses ['A']:\n",
      "Your best next guess is E with a probability P(L=E|E) of 0.7521 \n",
      "\n",
      "For correct guesses [None, 'U', None, None, None] and incorrect guesses ['A', 'E', 'I', 'O', 'S']:\n",
      "Your best next guess is Y with a probability P(L=Y|E) of 0.627 \n",
      "\n"
     ]
    }
   ],
   "source": [
    "def main():\n",
    "    # Check against given solutions\n",
    "    correct = [None] * 5\n",
    "    incorrect = ['E', 'O']\n",
    "    best_guess(correct, incorrect)\n",
    "\n",
    "    correct = ['D', None, None, 'I', None]\n",
    "    incorrect = []\n",
    "    best_guess(correct, incorrect)\n",
    "    \n",
    "    incorrect = ['A']\n",
    "    best_guess(correct, incorrect)\n",
    "    \n",
    "    correct = [None, 'U', None, None, None]\n",
    "    incorrect = ['A', 'E', 'I', 'O', 'S']\n",
    "    best_guess(correct, incorrect)\n",
    "\n",
    "if __name__ == \"__main__\":\n",
    "    main()"
   ]
  }
 ],
 "metadata": {
  "kernelspec": {
   "display_name": "Python 3.8.5 64-bit",
   "language": "python",
   "name": "python3"
  },
  "language_info": {
   "codemirror_mode": {
    "name": "ipython",
    "version": 3
   },
   "file_extension": ".py",
   "mimetype": "text/x-python",
   "name": "python",
   "nbconvert_exporter": "python",
   "pygments_lexer": "ipython3",
   "version": "3.8.5"
  },
  "orig_nbformat": 4,
  "vscode": {
   "interpreter": {
    "hash": "aee8b7b246df8f9039afb4144a1f6fd8d2ca17a180786b69acc140d282b71a49"
   }
  }
 },
 "nbformat": 4,
 "nbformat_minor": 2
}
