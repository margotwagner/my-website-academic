{
 "cells": [
  {
   "cell_type": "markdown",
   "metadata": {},
   "source": [
    "# 1.9 Hangman"
   ]
  },
  {
   "cell_type": "code",
   "execution_count": 1,
   "metadata": {
    "ExecuteTime": {
     "end_time": "2020-10-12T23:51:33.565104Z",
     "start_time": "2020-10-12T23:51:33.208630Z"
    }
   },
   "outputs": [],
   "source": [
    "import pandas as pd\n",
    "import string"
   ]
  },
  {
   "cell_type": "code",
   "execution_count": 2,
   "metadata": {
    "ExecuteTime": {
     "end_time": "2020-10-12T23:51:33.680411Z",
     "start_time": "2020-10-12T23:51:33.641840Z"
    }
   },
   "outputs": [
    {
     "data": {
      "text/html": [
       "<div>\n",
       "<style scoped>\n",
       "    .dataframe tbody tr th:only-of-type {\n",
       "        vertical-align: middle;\n",
       "    }\n",
       "\n",
       "    .dataframe tbody tr th {\n",
       "        vertical-align: top;\n",
       "    }\n",
       "\n",
       "    .dataframe thead th {\n",
       "        text-align: right;\n",
       "    }\n",
       "</style>\n",
       "<table border=\"1\" class=\"dataframe\">\n",
       "  <thead>\n",
       "    <tr style=\"text-align: right;\">\n",
       "      <th></th>\n",
       "      <th>word</th>\n",
       "      <th>count</th>\n",
       "      <th>P(W=w)</th>\n",
       "    </tr>\n",
       "  </thead>\n",
       "  <tbody>\n",
       "    <tr>\n",
       "      <th>0</th>\n",
       "      <td>AARON</td>\n",
       "      <td>413</td>\n",
       "      <td>0.000054</td>\n",
       "    </tr>\n",
       "    <tr>\n",
       "      <th>1</th>\n",
       "      <td>ABABA</td>\n",
       "      <td>199</td>\n",
       "      <td>0.000026</td>\n",
       "    </tr>\n",
       "    <tr>\n",
       "      <th>2</th>\n",
       "      <td>ABACK</td>\n",
       "      <td>64</td>\n",
       "      <td>0.000008</td>\n",
       "    </tr>\n",
       "    <tr>\n",
       "      <th>3</th>\n",
       "      <td>ABATE</td>\n",
       "      <td>69</td>\n",
       "      <td>0.000009</td>\n",
       "    </tr>\n",
       "    <tr>\n",
       "      <th>4</th>\n",
       "      <td>ABBAS</td>\n",
       "      <td>290</td>\n",
       "      <td>0.000038</td>\n",
       "    </tr>\n",
       "  </tbody>\n",
       "</table>\n",
       "</div>"
      ],
      "text/plain": [
       "    word  count    P(W=w)\n",
       "0  AARON    413  0.000054\n",
       "1  ABABA    199  0.000026\n",
       "2  ABACK     64  0.000008\n",
       "3  ABATE     69  0.000009\n",
       "4  ABBAS    290  0.000038"
      ]
     },
     "execution_count": 2,
     "metadata": {},
     "output_type": "execute_result"
    }
   ],
   "source": [
    "# Read in word counts file\n",
    "word_counts = pd.read_csv('./hw1_word_counts_05.txt', sep=' ', \n",
    "                          header=None, names=['word', 'count'])\n",
    "\n",
    "# Compute probabilities of words\n",
    "word_counts['P(W=w)'] = word_counts['count'] / word_counts['count'].sum(axis=0)\n",
    "\n",
    "word_counts.head()"
   ]
  },
  {
   "cell_type": "markdown",
   "metadata": {},
   "source": [
    "## (a) Print out 15 most frequent and 14 least frequent 5-letter words.\n",
    "Compute the prior probabilities $P(w) = COUNT(w)/COUNT_{total}$. As a sanity check, print out the 15 most frequent 5-letter words, as well as the 14 least frequent words."
   ]
  },
  {
   "cell_type": "code",
   "execution_count": 3,
   "metadata": {
    "ExecuteTime": {
     "end_time": "2020-10-12T23:51:35.253689Z",
     "start_time": "2020-10-12T23:51:35.242649Z"
    }
   },
   "outputs": [
    {
     "data": {
      "text/html": [
       "<div>\n",
       "<style scoped>\n",
       "    .dataframe tbody tr th:only-of-type {\n",
       "        vertical-align: middle;\n",
       "    }\n",
       "\n",
       "    .dataframe tbody tr th {\n",
       "        vertical-align: top;\n",
       "    }\n",
       "\n",
       "    .dataframe thead th {\n",
       "        text-align: right;\n",
       "    }\n",
       "</style>\n",
       "<table border=\"1\" class=\"dataframe\">\n",
       "  <thead>\n",
       "    <tr style=\"text-align: right;\">\n",
       "      <th></th>\n",
       "      <th>word</th>\n",
       "      <th>count</th>\n",
       "      <th>P(W=w)</th>\n",
       "    </tr>\n",
       "  </thead>\n",
       "  <tbody>\n",
       "    <tr>\n",
       "      <th>5821</th>\n",
       "      <td>THREE</td>\n",
       "      <td>273077</td>\n",
       "      <td>0.035627</td>\n",
       "    </tr>\n",
       "    <tr>\n",
       "      <th>5102</th>\n",
       "      <td>SEVEN</td>\n",
       "      <td>178842</td>\n",
       "      <td>0.023333</td>\n",
       "    </tr>\n",
       "    <tr>\n",
       "      <th>1684</th>\n",
       "      <td>EIGHT</td>\n",
       "      <td>165764</td>\n",
       "      <td>0.021626</td>\n",
       "    </tr>\n",
       "    <tr>\n",
       "      <th>6403</th>\n",
       "      <td>WOULD</td>\n",
       "      <td>159875</td>\n",
       "      <td>0.020858</td>\n",
       "    </tr>\n",
       "    <tr>\n",
       "      <th>18</th>\n",
       "      <td>ABOUT</td>\n",
       "      <td>157448</td>\n",
       "      <td>0.020542</td>\n",
       "    </tr>\n",
       "    <tr>\n",
       "      <th>5804</th>\n",
       "      <td>THEIR</td>\n",
       "      <td>145434</td>\n",
       "      <td>0.018974</td>\n",
       "    </tr>\n",
       "    <tr>\n",
       "      <th>6320</th>\n",
       "      <td>WHICH</td>\n",
       "      <td>142146</td>\n",
       "      <td>0.018545</td>\n",
       "    </tr>\n",
       "    <tr>\n",
       "      <th>73</th>\n",
       "      <td>AFTER</td>\n",
       "      <td>110102</td>\n",
       "      <td>0.014365</td>\n",
       "    </tr>\n",
       "    <tr>\n",
       "      <th>1975</th>\n",
       "      <td>FIRST</td>\n",
       "      <td>109957</td>\n",
       "      <td>0.014346</td>\n",
       "    </tr>\n",
       "    <tr>\n",
       "      <th>1947</th>\n",
       "      <td>FIFTY</td>\n",
       "      <td>106869</td>\n",
       "      <td>0.013943</td>\n",
       "    </tr>\n",
       "    <tr>\n",
       "      <th>4158</th>\n",
       "      <td>OTHER</td>\n",
       "      <td>106052</td>\n",
       "      <td>0.013836</td>\n",
       "    </tr>\n",
       "    <tr>\n",
       "      <th>2073</th>\n",
       "      <td>FORTY</td>\n",
       "      <td>94951</td>\n",
       "      <td>0.012388</td>\n",
       "    </tr>\n",
       "    <tr>\n",
       "      <th>6457</th>\n",
       "      <td>YEARS</td>\n",
       "      <td>88900</td>\n",
       "      <td>0.011598</td>\n",
       "    </tr>\n",
       "    <tr>\n",
       "      <th>5806</th>\n",
       "      <td>THERE</td>\n",
       "      <td>86502</td>\n",
       "      <td>0.011286</td>\n",
       "    </tr>\n",
       "    <tr>\n",
       "      <th>5250</th>\n",
       "      <td>SIXTY</td>\n",
       "      <td>73086</td>\n",
       "      <td>0.009535</td>\n",
       "    </tr>\n",
       "  </tbody>\n",
       "</table>\n",
       "</div>"
      ],
      "text/plain": [
       "       word   count    P(W=w)\n",
       "5821  THREE  273077  0.035627\n",
       "5102  SEVEN  178842  0.023333\n",
       "1684  EIGHT  165764  0.021626\n",
       "6403  WOULD  159875  0.020858\n",
       "18    ABOUT  157448  0.020542\n",
       "5804  THEIR  145434  0.018974\n",
       "6320  WHICH  142146  0.018545\n",
       "73    AFTER  110102  0.014365\n",
       "1975  FIRST  109957  0.014346\n",
       "1947  FIFTY  106869  0.013943\n",
       "4158  OTHER  106052  0.013836\n",
       "2073  FORTY   94951  0.012388\n",
       "6457  YEARS   88900  0.011598\n",
       "5806  THERE   86502  0.011286\n",
       "5250  SIXTY   73086  0.009535"
      ]
     },
     "execution_count": 3,
     "metadata": {},
     "output_type": "execute_result"
    }
   ],
   "source": [
    "top_15 = word_counts.sort_values(by='P(W=w)', ascending=False)\n",
    "top_15.head(15)"
   ]
  },
  {
   "cell_type": "code",
   "execution_count": 4,
   "metadata": {
    "ExecuteTime": {
     "end_time": "2020-10-12T23:51:35.615936Z",
     "start_time": "2020-10-12T23:51:35.606391Z"
    }
   },
   "outputs": [
    {
     "data": {
      "text/html": [
       "<div>\n",
       "<style scoped>\n",
       "    .dataframe tbody tr th:only-of-type {\n",
       "        vertical-align: middle;\n",
       "    }\n",
       "\n",
       "    .dataframe tbody tr th {\n",
       "        vertical-align: top;\n",
       "    }\n",
       "\n",
       "    .dataframe thead th {\n",
       "        text-align: right;\n",
       "    }\n",
       "</style>\n",
       "<table border=\"1\" class=\"dataframe\">\n",
       "  <thead>\n",
       "    <tr style=\"text-align: right;\">\n",
       "      <th></th>\n",
       "      <th>word</th>\n",
       "      <th>count</th>\n",
       "      <th>P(W=w)</th>\n",
       "    </tr>\n",
       "  </thead>\n",
       "  <tbody>\n",
       "    <tr>\n",
       "      <th>3554</th>\n",
       "      <td>MAPCO</td>\n",
       "      <td>6</td>\n",
       "      <td>7.827935e-07</td>\n",
       "    </tr>\n",
       "    <tr>\n",
       "      <th>712</th>\n",
       "      <td>BOSAK</td>\n",
       "      <td>6</td>\n",
       "      <td>7.827935e-07</td>\n",
       "    </tr>\n",
       "    <tr>\n",
       "      <th>895</th>\n",
       "      <td>CAIXA</td>\n",
       "      <td>6</td>\n",
       "      <td>7.827935e-07</td>\n",
       "    </tr>\n",
       "    <tr>\n",
       "      <th>4160</th>\n",
       "      <td>OTTIS</td>\n",
       "      <td>6</td>\n",
       "      <td>7.827935e-07</td>\n",
       "    </tr>\n",
       "    <tr>\n",
       "      <th>5985</th>\n",
       "      <td>TROUP</td>\n",
       "      <td>6</td>\n",
       "      <td>7.827935e-07</td>\n",
       "    </tr>\n",
       "    <tr>\n",
       "      <th>1107</th>\n",
       "      <td>CLEFT</td>\n",
       "      <td>7</td>\n",
       "      <td>9.132590e-07</td>\n",
       "    </tr>\n",
       "    <tr>\n",
       "      <th>2041</th>\n",
       "      <td>FOAMY</td>\n",
       "      <td>7</td>\n",
       "      <td>9.132590e-07</td>\n",
       "    </tr>\n",
       "    <tr>\n",
       "      <th>977</th>\n",
       "      <td>CCAIR</td>\n",
       "      <td>7</td>\n",
       "      <td>9.132590e-07</td>\n",
       "    </tr>\n",
       "    <tr>\n",
       "      <th>5093</th>\n",
       "      <td>SERNA</td>\n",
       "      <td>7</td>\n",
       "      <td>9.132590e-07</td>\n",
       "    </tr>\n",
       "    <tr>\n",
       "      <th>6443</th>\n",
       "      <td>YALOM</td>\n",
       "      <td>7</td>\n",
       "      <td>9.132590e-07</td>\n",
       "    </tr>\n",
       "    <tr>\n",
       "      <th>5872</th>\n",
       "      <td>TOCOR</td>\n",
       "      <td>7</td>\n",
       "      <td>9.132590e-07</td>\n",
       "    </tr>\n",
       "    <tr>\n",
       "      <th>3978</th>\n",
       "      <td>NIAID</td>\n",
       "      <td>7</td>\n",
       "      <td>9.132590e-07</td>\n",
       "    </tr>\n",
       "    <tr>\n",
       "      <th>4266</th>\n",
       "      <td>PAXON</td>\n",
       "      <td>7</td>\n",
       "      <td>9.132590e-07</td>\n",
       "    </tr>\n",
       "    <tr>\n",
       "      <th>1842</th>\n",
       "      <td>FABRI</td>\n",
       "      <td>7</td>\n",
       "      <td>9.132590e-07</td>\n",
       "    </tr>\n",
       "  </tbody>\n",
       "</table>\n",
       "</div>"
      ],
      "text/plain": [
       "       word  count        P(W=w)\n",
       "3554  MAPCO      6  7.827935e-07\n",
       "712   BOSAK      6  7.827935e-07\n",
       "895   CAIXA      6  7.827935e-07\n",
       "4160  OTTIS      6  7.827935e-07\n",
       "5985  TROUP      6  7.827935e-07\n",
       "1107  CLEFT      7  9.132590e-07\n",
       "2041  FOAMY      7  9.132590e-07\n",
       "977   CCAIR      7  9.132590e-07\n",
       "5093  SERNA      7  9.132590e-07\n",
       "6443  YALOM      7  9.132590e-07\n",
       "5872  TOCOR      7  9.132590e-07\n",
       "3978  NIAID      7  9.132590e-07\n",
       "4266  PAXON      7  9.132590e-07\n",
       "1842  FABRI      7  9.132590e-07"
      ]
     },
     "execution_count": 4,
     "metadata": {},
     "output_type": "execute_result"
    }
   ],
   "source": [
    "last_14 = word_counts.sort_values(by='P(W=w)')\n",
    "last_14.head(14)"
   ]
  },
  {
   "cell_type": "markdown",
   "metadata": {},
   "source": [
    "Do your results make sense? <br>\n",
    "Yes. The most common words are ones that are often used including numbers. The least common words are very specific and not used in daily speech."
   ]
  },
  {
   "cell_type": "markdown",
   "metadata": {},
   "source": [
    "## (b) The Best Next Guess\n",
    "Consider the following stages of the game. For each of the following, indicated the best next guess -- namely, the letter $l$ that is most probable to be among the missing letters. Also report the probability $P(L_i = l$ for some $i$ in ${1,2,3,4,5}|E)$ for your guess $l$. Your answers should fill in the last two columns of this table."
   ]
  },
  {
   "cell_type": "code",
   "execution_count": 5,
   "metadata": {
    "ExecuteTime": {
     "end_time": "2020-10-12T23:51:36.872647Z",
     "start_time": "2020-10-12T23:51:36.867061Z"
    }
   },
   "outputs": [],
   "source": [
    "def p_e_given_w(correct , incorrect):\n",
    "    '''\n",
    "    Function to give P(E|W) for each word. Checks if the guessed correctly/incorrectly\n",
    "    matches with each word.\n",
    "    \n",
    "    correct:   list of correct guesses\n",
    "    incorrect: list of incorrect guesses\n",
    "    \n",
    "    p_e_w: list of probabilities P(E|W) for each word\n",
    "    '''\n",
    "    # Initialize P(E|W) for each word\n",
    "    p_e_w = [None]*len(word_counts.index)\n",
    "    \n",
    "    # Compare words to correct/incorrect guesses to determine P(E|W)\n",
    "    for i in range(len(word_counts.index)): \n",
    "        for letter, guess in zip(word_counts['word'][i], correct):\n",
    "            # P(E|W) = 0 if the word contains a letter that is \"incorrect\"\n",
    "            if letter in incorrect:\n",
    "                p_e_w[i] = 0\n",
    "                break\n",
    "            \n",
    "            # P(E|W) = 0 if the letter is in the guessed spot but the\n",
    "            # word doesn't have the same letter in that spot.\n",
    "            elif (guess != None) and (letter != guess):\n",
    "                p_e_w[i] = 0\n",
    "                break\n",
    "                \n",
    "            # P(E|W) = 0 if a letter has been guessed and is in the word\n",
    "            # but not in the same positions as the word in question.\n",
    "            elif (letter in correct) and (guess == None):\n",
    "                p_e_w[i] = 0\n",
    "                break\n",
    "                \n",
    "            else:\n",
    "                p_e_w[i] = 1\n",
    "    \n",
    "    return p_e_w  "
   ]
  },
  {
   "cell_type": "code",
   "execution_count": 6,
   "metadata": {
    "ExecuteTime": {
     "end_time": "2020-10-12T23:51:37.308757Z",
     "start_time": "2020-10-12T23:51:37.304874Z"
    }
   },
   "outputs": [],
   "source": [
    "def p_l_given_w(letter):\n",
    "    '''\n",
    "    Function that gives the probabilites of a certain letter given a word.\n",
    "    \n",
    "    letter: letter of interest from alphabet\n",
    "    \n",
    "    p_l_w: probability of that letter for each word\n",
    "    '''\n",
    "    # Initialize P(L|W) for each word\n",
    "    p_l_w = [None]*len(word_counts.index)\n",
    "    \n",
    "    # Check if letter is anywhere in word\n",
    "    for i in range(len(word_counts.index)): \n",
    "        if letter in list(word_counts['word'][i]):\n",
    "            p_l_w[i] = 1\n",
    "        else:\n",
    "            p_l_w[i] = 0\n",
    "    \n",
    "    return p_l_w "
   ]
  },
  {
   "cell_type": "code",
   "execution_count": 7,
   "metadata": {
    "ExecuteTime": {
     "end_time": "2020-10-12T23:51:37.712877Z",
     "start_time": "2020-10-12T23:51:37.704148Z"
    }
   },
   "outputs": [],
   "source": [
    "def best_guess(correct, incorrect):\n",
    "    '''\n",
    "    Gives the best next guess l and P(L=l|E)\n",
    "    \n",
    "    correct: list of correct guesses in order\n",
    "    incorrect: list of incorrect guessses\n",
    "    '''\n",
    "    \n",
    "    # Compute P(E|W=w)\n",
    "    word_counts['P(E|W=w)'] = p_e_given_w(correct, incorrect)\n",
    "    \n",
    "    # Compute P(W=w|E)\n",
    "    word_counts['P(E|W=w)*P(W=w)'] = word_counts['P(E|W=w)'] * word_counts['P(W=w)']\n",
    "    word_counts['P(W=w|E)'] = word_counts['P(E|W=w)*P(W=w)'] / word_counts['P(E|W=w)*P(W=w)'].sum(axis=0)\n",
    "    del word_counts['P(E|W=w)*P(W=w)']\n",
    "    \n",
    "    # Compute P(L=l|W=w)\n",
    "    for letter in string.ascii_uppercase:\n",
    "        word_counts['P(L={}|W=w)'.format(letter)] = p_l_given_w(letter)\n",
    "    \n",
    "    # Compute P(L=l|W=w)*P(W=w|E) for each letter and word\n",
    "    for letter in string.ascii_uppercase:\n",
    "        word_counts['P(L={}|W=w)*P(W=w|E)'.format(letter)] = p_l_given_w(letter) * word_counts['P(W=w|E)'] \n",
    "        \n",
    "    # Compute P(L=l|E)\n",
    "    p_l_e = [None]*len(string.ascii_lowercase)\n",
    "    for letter, i in zip(string.ascii_uppercase, range(len(string.ascii_lowercase))):\n",
    "        p_l_e[i] = word_counts['P(L={}|W=w)*P(W=w|E)'.format(letter)].sum(axis=0)\n",
    "        \n",
    "    p_letter_e = pd.DataFrame(p_l_e, columns=['P(L=l|E)'], index=list(string.ascii_uppercase))\n",
    "    \n",
    "    best_guess = p_letter_e.loc[p_letter_e[p_letter_e['P(L=l|E)'] < 0.9999999].idxmax()].index.values[0]\n",
    "    max_p_l_e = p_letter_e.loc[p_letter_e[p_letter_e['P(L=l|E)'] < 0.9999999].idxmax()].values[0][0]\n",
    "    \n",
    "    print('For correct guesses', correct, 'and incorrect guesses {}:'.format(incorrect))\n",
    "    print('Your best next guess is', best_guess, 'with a probability P(L={}|E) of'.format(best_guess),round(max_p_l_e, 4),'\\n')"
   ]
  },
  {
   "cell_type": "code",
   "execution_count": 8,
   "metadata": {
    "ExecuteTime": {
     "end_time": "2020-10-12T23:51:56.111545Z",
     "start_time": "2020-10-12T23:51:38.236390Z"
    }
   },
   "outputs": [
    {
     "name": "stdout",
     "output_type": "stream",
     "text": [
      "For correct guesses [None, None, None, None, None] and incorrect guesses ['E', 'O']:\n",
      "Your best next guess is I with a probability P(L=I|E) of 0.6366 \n",
      "\n",
      "For correct guesses ['D', None, None, 'I', None] and incorrect guesses []:\n",
      "Your best next guess is A with a probability P(L=A|E) of 0.8207 \n",
      "\n",
      "For correct guesses ['D', None, None, 'I', None] and incorrect guesses ['A']:\n",
      "Your best next guess is E with a probability P(L=E|E) of 0.7521 \n",
      "\n",
      "For correct guesses [None, 'U', None, None, None] and incorrect guesses ['A', 'E', 'I', 'O', 'S']:\n",
      "Your best next guess is Y with a probability P(L=Y|E) of 0.627 \n",
      "\n"
     ]
    }
   ],
   "source": [
    "# Check against given solutions\n",
    "correct = [None] * 5\n",
    "incorrect = ['E', 'O']\n",
    "best_guess(correct, incorrect)\n",
    "\n",
    "correct = ['D', None, None, 'I', None]\n",
    "incorrect = []\n",
    "best_guess(correct, incorrect)\n",
    "\n",
    "incorrect = ['A']\n",
    "best_guess(correct, incorrect)\n",
    "\n",
    "correct = [None, 'U', None, None, None]\n",
    "incorrect = ['A', 'E', 'I', 'O', 'S']\n",
    "best_guess(correct, incorrect)"
   ]
  },
  {
   "cell_type": "code",
   "execution_count": 9,
   "metadata": {
    "ExecuteTime": {
     "end_time": "2020-10-12T23:52:17.786951Z",
     "start_time": "2020-10-12T23:51:56.193475Z"
    }
   },
   "outputs": [
    {
     "name": "stdout",
     "output_type": "stream",
     "text": [
      "For correct guesses [None, None, None, None, None] and incorrect guesses []:\n",
      "Your best next guess is E with a probability P(L=E|E) of 0.5394 \n",
      "\n",
      "For correct guesses [None, None, None, None, None] and incorrect guesses ['A', 'I']:\n",
      "Your best next guess is E with a probability P(L=E|E) of 0.6214 \n",
      "\n",
      "For correct guesses ['A', None, None, None, 'R'] and incorrect guesses []:\n",
      "Your best next guess is T with a probability P(L=T|E) of 0.9816 \n",
      "\n",
      "For correct guesses ['A', None, None, None, 'R'] and incorrect guesses ['E']:\n",
      "Your best next guess is O with a probability P(L=O|E) of 0.9913 \n",
      "\n",
      "For correct guesses [None, None, 'U', None, None] and incorrect guesses ['O', 'D', 'L', 'C']:\n",
      "Your best next guess is T with a probability P(L=T|E) of 0.7045 \n",
      "\n"
     ]
    }
   ],
   "source": [
    "# New solutions\n",
    "correct = [None] * 5\n",
    "incorrect = []\n",
    "best_guess(correct, incorrect)\n",
    "\n",
    "incorrect = ['A','I']\n",
    "best_guess(correct, incorrect)\n",
    "\n",
    "correct = ['A', None, None, None, 'R']\n",
    "incorrect = []\n",
    "best_guess(correct, incorrect)\n",
    "\n",
    "incorrect = ['E']\n",
    "best_guess(correct, incorrect)\n",
    "\n",
    "correct = [None, None, 'U', None, None]\n",
    "incorrect = ['O', 'D', 'L', 'C']\n",
    "best_guess(correct, incorrect)"
   ]
  }
 ],
 "metadata": {
  "kernelspec": {
   "display_name": "Python 3",
   "language": "python",
   "name": "python3"
  },
  "language_info": {
   "codemirror_mode": {
    "name": "ipython",
    "version": 3
   },
   "file_extension": ".py",
   "mimetype": "text/x-python",
   "name": "python",
   "nbconvert_exporter": "python",
   "pygments_lexer": "ipython3",
   "version": "3.8.3"
  },
  "varInspector": {
   "cols": {
    "lenName": 16,
    "lenType": 16,
    "lenVar": 40
   },
   "kernels_config": {
    "python": {
     "delete_cmd_postfix": "",
     "delete_cmd_prefix": "del ",
     "library": "var_list.py",
     "varRefreshCmd": "print(var_dic_list())"
    },
    "r": {
     "delete_cmd_postfix": ") ",
     "delete_cmd_prefix": "rm(",
     "library": "var_list.r",
     "varRefreshCmd": "cat(var_dic_list()) "
    }
   },
   "types_to_exclude": [
    "module",
    "function",
    "builtin_function_or_method",
    "instance",
    "_Feature"
   ],
   "window_display": false
  }
 },
 "nbformat": 4,
 "nbformat_minor": 4
}
