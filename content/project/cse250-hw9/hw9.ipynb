{
 "cells": [
  {
   "cell_type": "code",
   "execution_count": 1,
   "metadata": {
    "ExecuteTime": {
     "end_time": "2020-12-13T00:35:42.952502Z",
     "start_time": "2020-12-13T00:35:42.949961Z"
    }
   },
   "outputs": [],
   "source": [
    "import numpy as np\n",
    "import random"
   ]
  },
  {
   "cell_type": "markdown",
   "metadata": {},
   "source": [
    "## 9.2"
   ]
  },
  {
   "cell_type": "code",
   "execution_count": 2,
   "metadata": {
    "ExecuteTime": {
     "end_time": "2020-12-13T00:35:49.595188Z",
     "start_time": "2020-12-13T00:35:49.584771Z"
    }
   },
   "outputs": [
    {
     "data": {
      "text/plain": [
       "array([48., 24., 32.])"
      ]
     },
     "execution_count": 2,
     "metadata": {},
     "output_type": "execute_result"
    }
   ],
   "source": [
    "gamma = 3/4\n",
    "p_pie = np.array([[1/3, 2/3, 0], [2/3, 1/3, 0], [0, 2/3, 1/3]])\n",
    "r = np.array([24, -6, 12])\n",
    "v_pie = np.dot(np.linalg.inv(np.identity(3) - gamma*p_pie),r)\n",
    "v_pie"
   ]
  },
  {
   "cell_type": "code",
   "execution_count": 3,
   "metadata": {
    "ExecuteTime": {
     "end_time": "2020-12-13T00:35:49.927427Z",
     "start_time": "2020-12-13T00:35:49.923404Z"
    }
   },
   "outputs": [],
   "source": [
    "p_a_down = np.array([[1/3, 0, 2/3], [2/3, 1/3, 0], [0, 2/3, 1/3]])\n",
    "p_a_up = np.array([[1/3, 2/3, 0], [0, 1/3, 2/3], [2/3, 0, 1/3]])"
   ]
  },
  {
   "cell_type": "code",
   "execution_count": 4,
   "metadata": {
    "ExecuteTime": {
     "end_time": "2020-12-13T00:35:50.277858Z",
     "start_time": "2020-12-13T00:35:50.272019Z"
    }
   },
   "outputs": [
    {
     "name": "stdout",
     "output_type": "stream",
     "text": [
      "s = 1\n",
      "a = down\t 37.33333333333333\n",
      "a = up\t\t 32.0\n",
      "pi_prime(1) = down\n",
      "\n",
      "s = 2\n",
      "a = down\t 39.99999999999999\n",
      "a = up\t\t 29.333333333333336\n",
      "pi_prime(2) = down\n",
      "\n",
      "s = 3\n",
      "a = down\t 26.66666666666667\n",
      "a = up\t\t 42.66666666666666\n",
      "pi_prime(3) = up\n",
      "\n"
     ]
    }
   ],
   "source": [
    "for s in range(3):\n",
    "    print('s = {}'.format(s+1))\n",
    "    down = np.sum(np.multiply(p_a_down[s], v_pie))\n",
    "    up = np.sum(np.multiply(p_a_up[s], v_pie))\n",
    "    print('a = down\\t', down)\n",
    "    print('a = up\\t\\t', up)\n",
    "    if max(down, up) == down:\n",
    "        print('pi_prime({}) = down'.format(s+1))\n",
    "    else:\n",
    "        print('pi_prime({}) = up'.format(s+1))\n",
    "    print()"
   ]
  },
  {
   "cell_type": "code",
   "execution_count": 6,
   "metadata": {
    "ExecuteTime": {
     "end_time": "2020-12-13T00:37:19.389574Z",
     "start_time": "2020-12-13T00:37:19.380651Z"
    }
   },
   "outputs": [
    {
     "data": {
      "text/plain": [
       "array([-3., 15.])"
      ]
     },
     "execution_count": 6,
     "metadata": {},
     "output_type": "execute_result"
    }
   ],
   "source": [
    "gamma = 2/3\n",
    "p_pie = np.array([[3/4, 1/4], [1/4, 3/4]])\n",
    "r = np.array([-4, 8])\n",
    "v_pie = np.dot(np.linalg.inv(np.identity(2) - gamma*p_pie),r)\n",
    "v_pie"
   ]
  },
  {
   "cell_type": "code",
   "execution_count": 7,
   "metadata": {
    "ExecuteTime": {
     "end_time": "2020-12-13T00:50:23.507475Z",
     "start_time": "2020-12-13T00:50:23.494506Z"
    }
   },
   "outputs": [],
   "source": [
    "p_a_down = np.array([[3/4, 1/4], [1/4, 3/4]])\n",
    "p_a_up = np.array([[2/4, 2/4], [2/4, 2/4]])"
   ]
  },
  {
   "cell_type": "code",
   "execution_count": 9,
   "metadata": {
    "ExecuteTime": {
     "end_time": "2020-12-13T00:50:40.683616Z",
     "start_time": "2020-12-13T00:50:40.676690Z"
    }
   },
   "outputs": [
    {
     "name": "stdout",
     "output_type": "stream",
     "text": [
      "s = 1\n",
      "a = down\t 1.5\n",
      "a = up\t\t 6.0\n",
      "pi_prime(1) = up\n",
      "\n",
      "s = 2\n",
      "a = down\t 10.5\n",
      "a = up\t\t 6.0\n",
      "pi_prime(2) = down\n",
      "\n"
     ]
    }
   ],
   "source": [
    "for s in range(2):\n",
    "    print('s = {}'.format(s+1))\n",
    "    down = np.sum(np.multiply(p_a_down[s], v_pie))\n",
    "    up = np.sum(np.multiply(p_a_up[s], v_pie))\n",
    "    print('a = down\\t', down)\n",
    "    print('a = up\\t\\t', up)\n",
    "    if max(down, up) == down:\n",
    "        print('pi_prime({}) = down'.format(s+1))\n",
    "    else:\n",
    "        print('pi_prime({}) = up'.format(s+1))\n",
    "    print()"
   ]
  },
  {
   "cell_type": "markdown",
   "metadata": {},
   "source": [
    "## 9.4"
   ]
  },
  {
   "cell_type": "markdown",
   "metadata": {},
   "source": [
    "We are given a maze with 81 states (81 squares), 4 actions (up, down, left, right) and discount factor of 0.99. "
   ]
  },
  {
   "cell_type": "markdown",
   "metadata": {},
   "source": [
    "### (a) Policy iteration"
   ]
  },
  {
   "cell_type": "code",
   "execution_count": 338,
   "metadata": {
    "ExecuteTime": {
     "end_time": "2020-12-09T18:29:26.422339Z",
     "start_time": "2020-12-09T18:29:26.411752Z"
    }
   },
   "outputs": [],
   "source": [
    "# constants\n",
    "gamma = 0.99\n",
    "r = np.loadtxt('rewards.txt')\n",
    "p_a1 = np.loadtxt('prob_a1.txt')\n",
    "s_transitions = p_a1[:,:2].astype('int')\n",
    "p_a2 = np.loadtxt('prob_a2.txt')\n",
    "p_a3 = np.loadtxt('prob_a3.txt')\n",
    "p_a4 = np.loadtxt('prob_a4.txt')\n",
    "p = np.stack((p_a1[:,2], p_a2[:,2], p_a3[:,2], p_a4[:,2]))\n",
    "s_start = list(s_transitions[:,0])\n",
    "N = len(r)"
   ]
  },
  {
   "cell_type": "code",
   "execution_count": 339,
   "metadata": {
    "ExecuteTime": {
     "end_time": "2020-12-09T18:29:26.771164Z",
     "start_time": "2020-12-09T18:29:26.768640Z"
    }
   },
   "outputs": [],
   "source": [
    "# 1. Initialize policies randomly\n",
    "pi_init = [random.randrange(4) for i in range(N)]"
   ]
  },
  {
   "cell_type": "code",
   "execution_count": 340,
   "metadata": {
    "ExecuteTime": {
     "end_time": "2020-12-09T18:29:27.241180Z",
     "start_time": "2020-12-09T18:29:27.234944Z"
    }
   },
   "outputs": [],
   "source": [
    "# 2. Evaluate current policy\n",
    "def v_pi(pi):\n",
    "    \n",
    "    # Create probability matrix\n",
    "    p_pi = np.zeros((N, N))\n",
    "    \n",
    "    # for each s\n",
    "    for i in range(N):\n",
    "        # probability of transition to s'\n",
    "        s = i+1    # value of state\n",
    "        \n",
    "        # get possible next states given current state\n",
    "        next_s_i = [j for j, x in enumerate(s_start) if x == s]\n",
    "        next_s_val = [(s_transitions[j,1]) for j in next_s_i]\n",
    "        next_s_nonzero_probs = [p[pi[i]][j] for j in next_s_i]\n",
    "        \n",
    "        probs_i = [0]*N\n",
    "        for v,pr in zip(next_s_val, next_s_nonzero_probs):\n",
    "            probs_i[v-1] = pr\n",
    "        \n",
    "        p_pi[i, :] = np.array(probs_i) # for all next states\n",
    "        \n",
    "    \n",
    "    v = np.dot(np.linalg.inv(np.identity(N) - gamma*p_pi),r)\n",
    "    \n",
    "    return v"
   ]
  },
  {
   "cell_type": "code",
   "execution_count": 341,
   "metadata": {
    "ExecuteTime": {
     "end_time": "2020-12-09T18:29:27.916125Z",
     "start_time": "2020-12-09T18:29:27.910439Z"
    }
   },
   "outputs": [],
   "source": [
    "# 3. Update policy\n",
    "def improve_policy(v):\n",
    "    opt = []\n",
    "    \n",
    "    # for all states\n",
    "    for i in range(N):\n",
    "        s = i+1    # value of state\n",
    "    \n",
    "        if v[i] != 0:\n",
    "            # get possible next states given current state\n",
    "            next_s_i = [i for i, x in enumerate(s_start) if x == s] \n",
    "            \n",
    "            # use maximum value across all actions\n",
    "            max_val = 0\n",
    "            a_opt = 0\n",
    "            for a in range(4):            \n",
    "                # value iteration update\n",
    "                val = r[i] + gamma*sum([p[a][j]*v[s_transitions[j,1] - 1] for j in next_s_i])\n",
    "                \n",
    "                # compare to current max value\n",
    "                if val > max_val:\n",
    "                    max_val = val\n",
    "                    a_opt = a\n",
    "            \n",
    "            # update to maximum value\n",
    "            opt.append(a_opt)\n",
    "        else:\n",
    "            #opt.append('')\n",
    "            opt.append(0)\n",
    "            \n",
    "    return opt"
   ]
  },
  {
   "cell_type": "code",
   "execution_count": 342,
   "metadata": {
    "ExecuteTime": {
     "end_time": "2020-12-09T18:29:30.194035Z",
     "start_time": "2020-12-09T18:29:30.115045Z"
    }
   },
   "outputs": [],
   "source": [
    "pi_curr = pi_init.copy()\n",
    "pi_next = [0]*N\n",
    "no_change = pi_next == pi_curr\n",
    "#for i in range(15):\n",
    "while not no_change:\n",
    "    # compute value function\n",
    "    v_curr = v_pi(pi_curr)\n",
    "    \n",
    "    # improve policy\n",
    "    pi_next = improve_policy(v_curr)\n",
    "    \n",
    "    # check if change\n",
    "    no_change = pi_next == pi_curr\n",
    "    \n",
    "    # update pi\n",
    "    pi_curr = pi_next"
   ]
  },
  {
   "cell_type": "code",
   "execution_count": 343,
   "metadata": {
    "ExecuteTime": {
     "end_time": "2020-12-09T18:29:31.383941Z",
     "start_time": "2020-12-09T18:29:31.373050Z"
    }
   },
   "outputs": [
    {
     "data": {
      "text/plain": [
       "array([[   0.  ,    0.  ,    0.  ,    0.  ,    0.  ,    0.  ,    0.  ,\n",
       "           0.  ,    0.  ],\n",
       "       [   0.  ,   65.77,   67.14,   77.85,   79.84,   72.48, -100.  ,\n",
       "           0.  ,  100.  ],\n",
       "       [   0.  ,   55.88, -100.  ,   70.31,   81.34,   83.05,   84.88,\n",
       "          96.87,   98.72],\n",
       "       [   0.  ,   54.92,   50.48,   59.67,    0.  ,   80.96,    0.  ,\n",
       "          97.04,   98.73],\n",
       "       [  53.51,   54.15,    0.  , -100.  , -100.  ,   61.78, -100.  ,\n",
       "          88.22,  100.  ],\n",
       "       [   0.  ,   52.5 ,   43.94,   51.09,   61.01,   71.79,   73.95,\n",
       "          85.18,   97.57],\n",
       "       [   0.  ,   43.77, -100.  ,    0.  ,    0.  ,   70.35,    0.  ,\n",
       "        -100.  ,   88.41],\n",
       "       [   0.  ,   47.95,   48.77,   58.15,   59.39,   60.17, -100.  ,\n",
       "           0.  ,  100.  ],\n",
       "       [   0.  ,    0.  ,    0.  ,    0.  ,    0.  ,    0.  ,    0.  ,\n",
       "           0.  ,    0.  ]])"
      ]
     },
     "execution_count": 343,
     "metadata": {},
     "output_type": "execute_result"
    }
   ],
   "source": [
    "v_curr = v_pi(pi_curr)\n",
    "np.transpose(np.round(np.array(v_curr),2).reshape((9,9)))"
   ]
  },
  {
   "cell_type": "code",
   "execution_count": 329,
   "metadata": {
    "ExecuteTime": {
     "end_time": "2020-12-09T18:17:18.950723Z",
     "start_time": "2020-12-09T18:17:18.944751Z"
    }
   },
   "outputs": [
    {
     "data": {
      "text/plain": [
       "array([['', '', '', '', '', '', '', '', ''],\n",
       "       ['', 'E', 'E', 'E', 'S', 'S', '', '', 'W'],\n",
       "       ['', 'N', '', 'E', 'E', 'E', 'E', 'E', 'N'],\n",
       "       ['', 'N', 'E', 'N', '', 'N', '', 'E', 'S'],\n",
       "       ['E', 'N', '', '', '', 'N', '', 'E', 'W'],\n",
       "       ['', 'N', 'W', 'E', 'E', 'E', 'E', 'E', 'N'],\n",
       "       ['', 'N', '', '', '', 'N', '', '', 'S'],\n",
       "       ['', 'E', 'E', 'E', 'E', 'N', '', '', 'W'],\n",
       "       ['', '', '', '', '', '', '', '', '']], dtype='<U1')"
      ]
     },
     "execution_count": 329,
     "metadata": {},
     "output_type": "execute_result"
    }
   ],
   "source": [
    "actions = ['W', 'N', 'E', 'S']\n",
    "opt_moves = []\n",
    "for i in range(N):\n",
    "    if v_curr[i] > 0:\n",
    "        opt_moves.append(actions[pi_curr[i]])\n",
    "    else:\n",
    "        opt_moves.append('')\n",
    "        \n",
    "np.transpose(np.array(opt_moves).reshape((9,9)))"
   ]
  },
  {
   "cell_type": "markdown",
   "metadata": {},
   "source": [
    "### (b) Value iteration"
   ]
  },
  {
   "cell_type": "code",
   "execution_count": 331,
   "metadata": {
    "ExecuteTime": {
     "end_time": "2020-12-09T18:25:26.323467Z",
     "start_time": "2020-12-09T18:25:26.310852Z"
    }
   },
   "outputs": [],
   "source": [
    "# constants\n",
    "gamma = 0.99\n",
    "r = np.loadtxt('rewards.txt')\n",
    "p_a1 = np.loadtxt('prob_a1.txt')\n",
    "s_transitions = p_a1[:,:2].astype('int')\n",
    "p_a2 = np.loadtxt('prob_a2.txt')\n",
    "p_a3 = np.loadtxt('prob_a3.txt')\n",
    "p_a4 = np.loadtxt('prob_a4.txt')\n",
    "p = np.stack((p_a1[:,2], p_a2[:,2], p_a3[:,2], p_a4[:,2]))\n",
    "s_start = list(s_transitions[:,0])"
   ]
  },
  {
   "cell_type": "code",
   "execution_count": 332,
   "metadata": {
    "ExecuteTime": {
     "end_time": "2020-12-09T18:25:26.842868Z",
     "start_time": "2020-12-09T18:25:26.840274Z"
    }
   },
   "outputs": [],
   "source": [
    "# 1. Initialize value function for all states (81 functions) to zero\n",
    "v_init = [0]*81"
   ]
  },
  {
   "cell_type": "code",
   "execution_count": 333,
   "metadata": {
    "ExecuteTime": {
     "end_time": "2020-12-09T18:25:30.689577Z",
     "start_time": "2020-12-09T18:25:30.683924Z"
    }
   },
   "outputs": [],
   "source": [
    "def update_v(v):\n",
    "    v_next = []\n",
    "    # update all states\n",
    "    for i in range(81):\n",
    "        s = i+1    # value of state\n",
    "        \n",
    "        # get possible next states given current state\n",
    "        next_s_i = [i for i, x in enumerate(s_start) if x == s] \n",
    "        \n",
    "        # use maximum value across all actions\n",
    "        max_val = 0\n",
    "        for a in range(4):            \n",
    "            # value iteration update\n",
    "            val = r[i] + gamma*sum([p[a][j]*v[s_transitions[j,1] - 1] for j in next_s_i])\n",
    "            \n",
    "            # compare to current max value\n",
    "            if val > max_val:\n",
    "                max_val = val\n",
    "        \n",
    "        # update to maximum value\n",
    "        v_next.append(max_val)\n",
    "            \n",
    "    return v_next"
   ]
  },
  {
   "cell_type": "code",
   "execution_count": 334,
   "metadata": {
    "ExecuteTime": {
     "end_time": "2020-12-09T18:25:45.529577Z",
     "start_time": "2020-12-09T18:25:39.684538Z"
    },
    "scrolled": false
   },
   "outputs": [],
   "source": [
    "# 2. Iterate until convergence\n",
    "\n",
    "v_curr = v_init.copy()\n",
    "diff = 1000000\n",
    "# 10^-5\n",
    "while diff > 10**-5:\n",
    "    v_next = update_v(v_curr)\n",
    "    \n",
    "    diff = sum([i - j for i,j in zip(v_next, v_curr)])\n",
    "    \n",
    "    v_curr = v_next"
   ]
  },
  {
   "cell_type": "code",
   "execution_count": 344,
   "metadata": {
    "ExecuteTime": {
     "end_time": "2020-12-09T18:29:36.240656Z",
     "start_time": "2020-12-09T18:29:36.235124Z"
    }
   },
   "outputs": [
    {
     "data": {
      "text/plain": [
       "array([[   0.        ,    0.        ,    0.        ,    0.        ,\n",
       "           0.        ,    0.        ,    0.        ,    0.        ,\n",
       "           0.        ],\n",
       "       [   0.        ,   65.77308407,   67.13647421,   77.84605   ,\n",
       "          79.84451583,   72.47511769, -100.        ,    0.        ,\n",
       "         100.        ],\n",
       "       [   0.        ,   55.88294346, -100.        ,   70.30818136,\n",
       "          81.34440225,   83.04847989,   84.88054612,   96.87232244,\n",
       "          98.71875987],\n",
       "       [   0.        ,   54.92298013,   50.47656297,   59.66641187,\n",
       "           0.        ,   80.95826449,    0.        ,   97.04482865,\n",
       "          98.72729893],\n",
       "       [  53.50968756,   54.14557214,    0.        , -100.        ,\n",
       "        -100.        ,   61.77980767, -100.        ,   88.22035599,\n",
       "         100.        ],\n",
       "       [   0.        ,   52.50402036,   43.9359876 ,   51.09137525,\n",
       "          61.00715483,   71.78642614,   73.94661407,   85.18458536,\n",
       "          97.57257319],\n",
       "       [   0.        ,   43.77254574, -100.        ,    0.        ,\n",
       "           0.        ,   70.35142939,    0.        , -100.        ,\n",
       "          88.40593622],\n",
       "       [   0.        ,   47.95296148,   48.76871928,   58.14735126,\n",
       "          59.39003194,   60.1688947 , -100.        ,    0.        ,\n",
       "         100.        ],\n",
       "       [   0.        ,    0.        ,    0.        ,    0.        ,\n",
       "           0.        ,    0.        ,    0.        ,    0.        ,\n",
       "           0.        ]])"
      ]
     },
     "execution_count": 344,
     "metadata": {},
     "output_type": "execute_result"
    }
   ],
   "source": [
    "np.transpose(np.array(v_curr).reshape((9,9)))"
   ]
  },
  {
   "cell_type": "code",
   "execution_count": 345,
   "metadata": {
    "ExecuteTime": {
     "end_time": "2020-12-09T18:29:42.159316Z",
     "start_time": "2020-12-09T18:29:42.152680Z"
    }
   },
   "outputs": [],
   "source": [
    "# 3. Solve for optimal policy\n",
    "def opt_policy(v):\n",
    "    opt = []\n",
    "    actions = ['W', 'N', 'E', 'S']\n",
    "    \n",
    "    # for all states\n",
    "    for i in range(81):\n",
    "        s = i+1    # value of state\n",
    "    \n",
    "        if v[i] != 0:\n",
    "            # get possible next states given current state\n",
    "            next_s_i = [i for i, x in enumerate(s_start) if x == s] \n",
    "            \n",
    "            # use maximum value across all actions\n",
    "            max_val = 0\n",
    "            a_opt = 0\n",
    "            for a in range(4):            \n",
    "                # value iteration update\n",
    "                val = r[i] + gamma*sum([p[a][j]*v[s_transitions[j,1] - 1] for j in next_s_i])\n",
    "                \n",
    "                # compare to current max value\n",
    "                if val > max_val:\n",
    "                    max_val = val\n",
    "                    a_opt = actions[a]\n",
    "            \n",
    "            # update to maximum value\n",
    "            opt.append(a_opt)\n",
    "        else:\n",
    "            opt.append('')\n",
    "            \n",
    "    return opt\n",
    "    "
   ]
  },
  {
   "cell_type": "code",
   "execution_count": 347,
   "metadata": {
    "ExecuteTime": {
     "end_time": "2020-12-09T18:30:22.249601Z",
     "start_time": "2020-12-09T18:30:22.244478Z"
    }
   },
   "outputs": [
    {
     "data": {
      "text/plain": [
       "array([['', '', '', '', '', '', '', '', ''],\n",
       "       ['', 'E', 'E', 'E', 'S', 'S', '', '', 'W'],\n",
       "       ['', 'N', '', 'E', 'E', 'E', 'E', 'E', 'N'],\n",
       "       ['', 'N', 'E', 'N', '', 'N', '', 'E', 'S'],\n",
       "       ['E', 'N', '', '', '', 'N', '', 'E', 'W'],\n",
       "       ['', 'N', 'W', 'E', 'E', 'E', 'E', 'E', 'N'],\n",
       "       ['', 'N', '', '', '', 'N', '', '', 'S'],\n",
       "       ['', 'E', 'E', 'E', 'E', 'N', '', '', 'W'],\n",
       "       ['', '', '', '', '', '', '', '', '']], dtype='<U1')"
      ]
     },
     "execution_count": 347,
     "metadata": {},
     "output_type": "execute_result"
    }
   ],
   "source": [
    "np.transpose(np.array(opt_policy(v_curr)).reshape((9,9)))"
   ]
  },
  {
   "cell_type": "code",
   "execution_count": null,
   "metadata": {},
   "outputs": [],
   "source": []
  }
 ],
 "metadata": {
  "kernelspec": {
   "display_name": "Python 3",
   "language": "python",
   "name": "python3"
  },
  "language_info": {
   "codemirror_mode": {
    "name": "ipython",
    "version": 3
   },
   "file_extension": ".py",
   "mimetype": "text/x-python",
   "name": "python",
   "nbconvert_exporter": "python",
   "pygments_lexer": "ipython3",
   "version": "3.8.3"
  },
  "varInspector": {
   "cols": {
    "lenName": 16,
    "lenType": 16,
    "lenVar": 40
   },
   "kernels_config": {
    "python": {
     "delete_cmd_postfix": "",
     "delete_cmd_prefix": "del ",
     "library": "var_list.py",
     "varRefreshCmd": "print(var_dic_list())"
    },
    "r": {
     "delete_cmd_postfix": ") ",
     "delete_cmd_prefix": "rm(",
     "library": "var_list.r",
     "varRefreshCmd": "cat(var_dic_list()) "
    }
   },
   "types_to_exclude": [
    "module",
    "function",
    "builtin_function_or_method",
    "instance",
    "_Feature"
   ],
   "window_display": false
  }
 },
 "nbformat": 4,
 "nbformat_minor": 4
}
